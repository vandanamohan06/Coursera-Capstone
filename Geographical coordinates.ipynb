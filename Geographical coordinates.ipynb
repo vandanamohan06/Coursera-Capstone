{
    "nbformat_minor": 1, 
    "cells": [
        {
            "execution_count": null, 
            "cell_type": "code", 
            "metadata": {}, 
            "outputs": [], 
            "source": "import pandas as pd\nwiki='https://en.wikipedia.org/wiki/List_of_postal_codes_of_Canada:_M'\nlist=pd.read_html(wiki)\ndf=list[0]\ndf.columns=['PostalCode', 'Borough', 'Neighborhood']\ndf1=df.query('Borough != \"Not assigned\"').reset_index(drop=True)\ndf2=df1.groupby('PostalCode', as_index=False).agg(lambda x:','.join(set(x.dropna())))\ndf2.loc[df2['Neighborhood'] == \"Not assigned\", 'Neighborhood'] = df2['Borough']                                                  \ndf3=pd.read_csv(\"http://cocl.us/Geospatial_data\")\ndf4=pd.concat([df2, df3], axis=1)\ndf4.drop(\"Postal Code\", axis = 1, inplace=True)\ndf4.head()"
        }, 
        {
            "execution_count": null, 
            "cell_type": "code", 
            "metadata": {}, 
            "outputs": [], 
            "source": ""
        }
    ], 
    "metadata": {
        "kernelspec": {
            "display_name": "Python 3.6", 
            "name": "python3", 
            "language": "python"
        }, 
        "language_info": {
            "mimetype": "text/x-python", 
            "nbconvert_exporter": "python", 
            "version": "3.6.8", 
            "name": "python", 
            "file_extension": ".py", 
            "pygments_lexer": "ipython3", 
            "codemirror_mode": {
                "version": 3, 
                "name": "ipython"
            }
        }
    }, 
    "nbformat": 4
}