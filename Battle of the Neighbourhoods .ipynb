{
    "nbformat_minor": 1, 
    "cells": [
        {
            "source": "##Battle of the neighbourhoods - week 1", 
            "cell_type": "markdown", 
            "metadata": {
                "collapsed": true
            }
        }, 
        {
            "source": "###Description of the problem\n######New York City is a major city located in the United States America. It is hub of multiculturalism and provides several opportunities for new businesses. New York City is famous for the excellent food scene. We are looking to open a new restaurant in New York. A suitable neighbourhood has to be identified for this new business.", 
            "cell_type": "markdown", 
            "metadata": {}
        }, 
        {
            "source": "###Discussion of the background\n#####We will identify the various neighbourhoods in New York and locate a suitable neighbourhood for a new restaurant based on lack of similar outlets in the vicinity. We will also provide detailed rationale for the selection of the final recommendation.", 
            "cell_type": "markdown", 
            "metadata": {}
        }, 
        {
            "source": "###Description of the data and how it will be used to solve the problem\n######Data to be used will include the following \n1. Various neighbourhoods in the different boroughs\n2. Type of cuisines available\n3. Population/demographics\n4. Other food/coffee venues in the neighbourhood \n5. Any other local attractions like parks, malls, etc\n\nData to be used is available at the following links:\nhttps://geo.nyu.edu/catalog/nyu_2451_34572\n\nhttps://en.wikipedia.org/wiki/Portal:New_York_City\n\nhttps://en.wikipedia.org/wiki/New_York_City \n\nhttps://en.wikipedia.org/wiki/Economy_of_New_York_City \n\nhttps://en.wikipedia.org/wiki/Demographics_of_New_York_City \n\nhttps://en.wikipedia.org/wiki/Cuisine_of_New_York_City \n\n######We will subsequently use Foursquare API to explore the neighbourhoods in detail to arrive at our recommendation.", 
            "cell_type": "markdown", 
            "metadata": {}
        }, 
        {
            "execution_count": null, 
            "cell_type": "code", 
            "metadata": {}, 
            "outputs": [], 
            "source": ""
        }
    ], 
    "metadata": {
        "kernelspec": {
            "display_name": "Python 3.6", 
            "name": "python3", 
            "language": "python"
        }, 
        "language_info": {
            "mimetype": "text/x-python", 
            "nbconvert_exporter": "python", 
            "version": "3.6.8", 
            "name": "python", 
            "file_extension": ".py", 
            "pygments_lexer": "ipython3", 
            "codemirror_mode": {
                "version": 3, 
                "name": "ipython"
            }
        }
    }, 
    "nbformat": 4
}