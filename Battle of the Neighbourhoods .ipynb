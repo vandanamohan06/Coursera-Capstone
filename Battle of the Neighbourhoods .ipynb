{
    "nbformat_minor": 1, 
    "cells": [
        {
            "source": "##Battle of the neighbourhoods - week 1", 
            "cell_type": "markdown", 
            "metadata": {
                "collapsed": true
            }
        }, 
        {
            "source": "###Description of the problem\n######New York City is a major city located in the United States of America. It is a hub of multiculturalism and provides several opportunities for new businesses. New York City is famous for the excellent food scene. We are looking to create a food guide for Asian restaurants in New York City, to be used by tourists. For this we need to identify the various types of restaurants and their locations. Finally we identify the area with maximum number of Asian restaurants.", 
            "cell_type": "markdown", 
            "metadata": {}
        }, 
        {
            "source": "###Discussion of the background\n#####We will identify the various neighbourhoods in New York and locate the different restaurants located within these neighbourhoods. From these we will narrow our search to identify the Asian restaurants and finally to identify the area with maximum number of Asian restaurants. This will help tourists looking for this type of cuisine to locate the kind of food they wish to eat.", 
            "cell_type": "markdown", 
            "metadata": {}
        }, 
        {
            "source": "###Description of the data and how it will be used to solve the problem\n######Data to be used will include the following \n1. Various neighbourhoods and boroughs\n2. Type of cuisines available\n\nData to be used is available at the following links:\nhttps://geo.nyu.edu/catalog/nyu_2451_34572\n\nhttps://en.wikipedia.org/wiki/Portal:New_York_City\n\nhttps://en.wikipedia.org/wiki/Cuisine_of_New_York_City \n\n######We will subsequently use Foursquare API to explore the neighbourhoods in detail to arrive at our recommendation.", 
            "cell_type": "markdown", 
            "metadata": {}
        }, 
        {
            "execution_count": null, 
            "cell_type": "code", 
            "metadata": {}, 
            "outputs": [], 
            "source": ""
        }
    ], 
    "metadata": {
        "kernelspec": {
            "display_name": "Python 3.6", 
            "name": "python3", 
            "language": "python"
        }, 
        "language_info": {
            "mimetype": "text/x-python", 
            "nbconvert_exporter": "python", 
            "version": "3.6.8", 
            "name": "python", 
            "file_extension": ".py", 
            "pygments_lexer": "ipython3", 
            "codemirror_mode": {
                "version": 3, 
                "name": "ipython"
            }
        }
    }, 
    "nbformat": 4
}